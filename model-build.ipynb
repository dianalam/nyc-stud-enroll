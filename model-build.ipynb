{
 "cells": [
  {
   "cell_type": "code",
   "execution_count": 1,
   "metadata": {
    "collapsed": true
   },
   "outputs": [],
   "source": [
    "import pandas as pd\n",
    "import numpy as np"
   ]
  },
  {
   "cell_type": "code",
   "execution_count": 22,
   "metadata": {
    "collapsed": true
   },
   "outputs": [],
   "source": [
    "def read_and_split(path, test_yr=20102011):\n",
    "    \"\"\"Read file and split into train and test sets. Use latest year\n",
    "    for test set.\"\"\"\n",
    "    data = pd.read_csv(\n",
    "        path, \n",
    "        header=0,\n",
    "        names=['tract_2010', 'sch_year', 'grade', 'ct']\n",
    "    )\n",
    "    test = data[data['sch_year'] == test_yr]\n",
    "    train = data[data['sch_year'] != test_yr]\n",
    "    assert data.shape[0] == test.shape[0] + train.shape[0]\n",
    "    return train, test"
   ]
  },
  {
   "cell_type": "code",
   "execution_count": 24,
   "metadata": {
    "collapsed": false
   },
   "outputs": [],
   "source": [
    "train, test = read_and_split('CSD20_Resident_Data_Phase_1.csv')"
   ]
  },
  {
   "cell_type": "markdown",
   "metadata": {},
   "source": [
    "## Add some potential features."
   ]
  },
  {
   "cell_type": "markdown",
   "metadata": {},
   "source": [
    "* race\n",
    "* population - static & growth\n",
    "* age\n",
    "* income\n",
    "* household size \n",
    "* population age breakdown\n",
    "* % change in students in past years"
   ]
  },
  {
   "cell_type": "code",
   "execution_count": null,
   "metadata": {
    "collapsed": true
   },
   "outputs": [],
   "source": []
  }
 ],
 "metadata": {
  "anaconda-cloud": {},
  "kernelspec": {
   "display_name": "Python [default]",
   "language": "python",
   "name": "python2"
  },
  "language_info": {
   "codemirror_mode": {
    "name": "ipython",
    "version": 2
   },
   "file_extension": ".py",
   "mimetype": "text/x-python",
   "name": "python",
   "nbconvert_exporter": "python",
   "pygments_lexer": "ipython2",
   "version": "2.7.12"
  }
 },
 "nbformat": 4,
 "nbformat_minor": 1
}
