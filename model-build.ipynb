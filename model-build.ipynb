{
 "cells": [
  {
   "cell_type": "code",
   "execution_count": 1,
   "metadata": {
    "collapsed": true
   },
   "outputs": [],
   "source": [
    "import pandas as pd\n",
    "import numpy as np"
   ]
  },
  {
   "cell_type": "code",
   "execution_count": 2,
   "metadata": {
    "collapsed": true
   },
   "outputs": [],
   "source": [
    "def read_and_split(path, test_yr=20102011):\n",
    "    \"\"\"Read file and split into train and test sets. Use latest year\n",
    "    for test set.\"\"\"\n",
    "    data = pd.read_csv(\n",
    "        path, \n",
    "        header=0,\n",
    "        names=['tract_2010', 'sch_year', 'grade', 'ct']\n",
    "    )\n",
    "    test = data[data['sch_year'] == test_yr]\n",
    "    train = data[data['sch_year'] != test_yr]\n",
    "    assert data.shape[0] == test.shape[0] + train.shape[0]\n",
    "    return train, test"
   ]
  },
  {
   "cell_type": "markdown",
   "metadata": {},
   "source": [
    "## Add some potential features."
   ]
  },
  {
   "cell_type": "markdown",
   "metadata": {},
   "source": [
    "* race\n",
    "* population - static & growth\n",
    "* age\n",
    "* income\n",
    "* household size \n",
    "* population age breakdown\n",
    "* % change in students in past years\n",
    "\n",
    "years: 2001 - 2009"
   ]
  },
  {
   "cell_type": "code",
   "execution_count": 60,
   "metadata": {
    "collapsed": false
   },
   "outputs": [],
   "source": [
    "def format_tract_for_match(driver):\n",
    "    \"\"\"Add 00 to end of each tract, except for tracts that refer to a decimal (where the second to last \n",
    "    character is 0).\n",
    "    \"\"\"\n",
    "    driver['tract_formatted'] = driver.tract_2010.apply(\n",
    "        lambda t: str(t) + '00' if str(t)[-2] != 0 else t)\n",
    "    \n",
    "def format_year(driver):\n",
    "    driver['data_yr'] = driver.sch_year.apply(\n",
    "        lambda y: str(y)[:4])\n",
    "    \n",
    "def join_pop_data(driver, data):\n",
    "    joined = driver.merge(\n",
    "        data, how='left', left_on=['tract_formatted', 'data_yr'], \n",
    "        right_on=['tract', 'yr']\n",
    "    )\n",
    "    return joined"
   ]
  },
  {
   "cell_type": "code",
   "execution_count": 76,
   "metadata": {
    "collapsed": false
   },
   "outputs": [
    {
     "data": {
      "text/html": [
       "<div>\n",
       "<table border=\"1\" class=\"dataframe\">\n",
       "  <thead>\n",
       "    <tr style=\"text-align: right;\">\n",
       "      <th></th>\n",
       "      <th>tract_2010</th>\n",
       "      <th>sch_year</th>\n",
       "      <th>grade</th>\n",
       "      <th>ct</th>\n",
       "      <th>tract_formatted</th>\n",
       "      <th>data_yr</th>\n",
       "      <th>yr</th>\n",
       "      <th>tract</th>\n",
       "      <th>pop</th>\n",
       "    </tr>\n",
       "  </thead>\n",
       "  <tbody>\n",
       "    <tr>\n",
       "      <th>0</th>\n",
       "      <td>18</td>\n",
       "      <td>20012002</td>\n",
       "      <td>2</td>\n",
       "      <td>1</td>\n",
       "      <td>1800</td>\n",
       "      <td>2001</td>\n",
       "      <td>NaN</td>\n",
       "      <td>NaN</td>\n",
       "      <td>NaN</td>\n",
       "    </tr>\n",
       "    <tr>\n",
       "      <th>1</th>\n",
       "      <td>18</td>\n",
       "      <td>20022003</td>\n",
       "      <td>3</td>\n",
       "      <td>1</td>\n",
       "      <td>1800</td>\n",
       "      <td>2002</td>\n",
       "      <td>NaN</td>\n",
       "      <td>NaN</td>\n",
       "      <td>NaN</td>\n",
       "    </tr>\n",
       "    <tr>\n",
       "      <th>2</th>\n",
       "      <td>18</td>\n",
       "      <td>20032004</td>\n",
       "      <td>K</td>\n",
       "      <td>1</td>\n",
       "      <td>1800</td>\n",
       "      <td>2003</td>\n",
       "      <td>NaN</td>\n",
       "      <td>NaN</td>\n",
       "      <td>NaN</td>\n",
       "    </tr>\n",
       "    <tr>\n",
       "      <th>3</th>\n",
       "      <td>18</td>\n",
       "      <td>20032004</td>\n",
       "      <td>3</td>\n",
       "      <td>1</td>\n",
       "      <td>1800</td>\n",
       "      <td>2003</td>\n",
       "      <td>NaN</td>\n",
       "      <td>NaN</td>\n",
       "      <td>NaN</td>\n",
       "    </tr>\n",
       "    <tr>\n",
       "      <th>4</th>\n",
       "      <td>18</td>\n",
       "      <td>20032004</td>\n",
       "      <td>4</td>\n",
       "      <td>1</td>\n",
       "      <td>1800</td>\n",
       "      <td>2003</td>\n",
       "      <td>NaN</td>\n",
       "      <td>NaN</td>\n",
       "      <td>NaN</td>\n",
       "    </tr>\n",
       "  </tbody>\n",
       "</table>\n",
       "</div>"
      ],
      "text/plain": [
       "   tract_2010  sch_year grade  ct tract_formatted data_yr   yr tract  pop\n",
       "0          18  20012002     2   1            1800    2001  NaN   NaN  NaN\n",
       "1          18  20022003     3   1            1800    2002  NaN   NaN  NaN\n",
       "2          18  20032004     K   1            1800    2003  NaN   NaN  NaN\n",
       "3          18  20032004     3   1            1800    2003  NaN   NaN  NaN\n",
       "4          18  20032004     4   1            1800    2003  NaN   NaN  NaN"
      ]
     },
     "execution_count": 76,
     "metadata": {},
     "output_type": "execute_result"
    }
   ],
   "source": [
    "# load pop data\n",
    "pop = pd.read_csv(\n",
    "        'data/New_York_City_Population_By_Census_Tracts.csv',\n",
    "        names=['boro', 'yr', 'fips', 'dcp_boro_cd', 'tract', 'pop'],\n",
    "        header=0)\n",
    "bk_pop = pop[pop.boro == 'Brooklyn'].drop(['boro', 'fips', 'dcp_boro_cd'], axis=1)\n",
    "\n",
    "bk_pop['yr'] = bk_pop['yr'].astype(str)\n",
    "bk_pop['tract'] = bk_pop['tract'].astype(str)\n",
    "\n",
    "# load driver data\n",
    "train, test = read_and_split('data/driver/CSD20_Resident_Data_Phase_1.csv')\n",
    "format_tract_for_match(train)\n",
    "format_year(train)\n",
    "\n",
    "# join\n",
    "train2 = join_pop_data(train, bk_pop)\n",
    "train2.head()"
   ]
  },
  {
   "cell_type": "code",
   "execution_count": 78,
   "metadata": {
    "collapsed": false
   },
   "outputs": [
    {
     "data": {
      "text/plain": [
       "tract_2010          int64\n",
       "sch_year            int64\n",
       "grade              object\n",
       "ct                  int64\n",
       "tract_formatted    object\n",
       "data_yr            object\n",
       "dtype: object"
      ]
     },
     "execution_count": 78,
     "metadata": {},
     "output_type": "execute_result"
    }
   ],
   "source": [
    "train.dtypes"
   ]
  },
  {
   "cell_type": "code",
   "execution_count": 81,
   "metadata": {
    "collapsed": false
   },
   "outputs": [
    {
     "name": "stdout",
     "output_type": "stream",
     "text": [
      "yr       object\n",
      "tract    object\n",
      "pop       int64\n",
      "dtype: object\n"
     ]
    },
    {
     "data": {
      "text/html": [
       "<div>\n",
       "<table border=\"1\" class=\"dataframe\">\n",
       "  <thead>\n",
       "    <tr style=\"text-align: right;\">\n",
       "      <th></th>\n",
       "      <th>yr</th>\n",
       "      <th>tract</th>\n",
       "      <th>pop</th>\n",
       "    </tr>\n",
       "  </thead>\n",
       "  <tbody>\n",
       "    <tr>\n",
       "      <th>339</th>\n",
       "      <td>2000</td>\n",
       "      <td>100</td>\n",
       "      <td>5498</td>\n",
       "    </tr>\n",
       "    <tr>\n",
       "      <th>340</th>\n",
       "      <td>2000</td>\n",
       "      <td>200</td>\n",
       "      <td>1303</td>\n",
       "    </tr>\n",
       "    <tr>\n",
       "      <th>341</th>\n",
       "      <td>2000</td>\n",
       "      <td>301</td>\n",
       "      <td>5036</td>\n",
       "    </tr>\n",
       "    <tr>\n",
       "      <th>342</th>\n",
       "      <td>2000</td>\n",
       "      <td>501</td>\n",
       "      <td>3415</td>\n",
       "    </tr>\n",
       "    <tr>\n",
       "      <th>343</th>\n",
       "      <td>2000</td>\n",
       "      <td>502</td>\n",
       "      <td>2739</td>\n",
       "    </tr>\n",
       "  </tbody>\n",
       "</table>\n",
       "</div>"
      ],
      "text/plain": [
       "       yr tract   pop\n",
       "339  2000   100  5498\n",
       "340  2000   200  1303\n",
       "341  2000   301  5036\n",
       "342  2000   501  3415\n",
       "343  2000   502  2739"
      ]
     },
     "execution_count": 81,
     "metadata": {},
     "output_type": "execute_result"
    }
   ],
   "source": [
    "print(bk_pop.dtypes)\n",
    "bk_pop.head()"
   ]
  }
 ],
 "metadata": {
  "anaconda-cloud": {},
  "kernelspec": {
   "display_name": "Python [default]",
   "language": "python",
   "name": "python2"
  },
  "language_info": {
   "codemirror_mode": {
    "name": "ipython",
    "version": 2
   },
   "file_extension": ".py",
   "mimetype": "text/x-python",
   "name": "python",
   "nbconvert_exporter": "python",
   "pygments_lexer": "ipython2",
   "version": "2.7.12"
  }
 },
 "nbformat": 4,
 "nbformat_minor": 1
}
